{
  "nbformat": 4,
  "nbformat_minor": 0,
  "metadata": {
    "colab": {
      "name": "Mnist--Assignment 3.ipynb",
      "version": "0.3.2",
      "provenance": []
    },
    "kernelspec": {
      "name": "python3",
      "display_name": "Python 3"
    }
  },
  "cells": [
    {
      "cell_type": "markdown",
      "metadata": {
        "id": "Zhl13phTL2xx",
        "colab_type": "text"
      },
      "source": [
        "# 1. Recognize digits 0-9 "
      ]
    },
    {
      "cell_type": "markdown",
      "metadata": {
        "id": "JQ84OMxccmNH",
        "colab_type": "text"
      },
      "source": [
        "## Model1: Logistic Regression"
      ]
    },
    {
      "cell_type": "code",
      "metadata": {
        "id": "MkVs564ZQX9H",
        "colab_type": "code",
        "colab": {}
      },
      "source": [
        "# Install   memory_profiler \n",
        "!pip install memory_profiler\n",
        "!pip install line_profiler\n",
        "%load_ext memory_profiler\n",
        "%load_ext line_profiler"
      ],
      "execution_count": 0,
      "outputs": []
    },
    {
      "cell_type": "code",
      "metadata": {
        "id": "96kMpiWrbf5z",
        "colab_type": "code",
        "colab": {}
      },
      "source": [
        "import pandas as pd\n",
        "import tensorflow.examples.tutorials.mnist.input_data as input_data\n",
        "mnist=input_data.read_data_sets(\"MNIST\")\n",
        "\n",
        "train_images = pd.DataFrame(mnist.train.images)\n",
        "train_labels = pd.DataFrame(mnist.train.labels)\n",
        "test_images = pd.DataFrame(mnist.test.images)\n",
        "test_labels = pd.DataFrame(mnist.test.labels)"
      ],
      "execution_count": 0,
      "outputs": []
    },
    {
      "cell_type": "code",
      "metadata": {
        "id": "LBsS3ziAR0En",
        "colab_type": "code",
        "colab": {}
      },
      "source": [
        "from sklearn.linear_model import LogisticRegression\n",
        "model = LogisticRegression()\n",
        "model.fit(train_images, train_labels)\n",
        "model.predict(test_images)\n",
        "score = model.score(test_images, test_labels)\n",
        "print(score)"
      ],
      "execution_count": 0,
      "outputs": []
    },
    {
      "cell_type": "markdown",
      "metadata": {
        "id": "AEa29y3AEPe3",
        "colab_type": "text"
      },
      "source": [
        "## Model2: Keras"
      ]
    },
    {
      "cell_type": "code",
      "metadata": {
        "id": "VdqDif1xFdbo",
        "colab_type": "code",
        "colab": {}
      },
      "source": [
        "import tensorflow as tf\n",
        "mnist = tf.keras.datasets.mnist\n",
        "\n",
        "(x_train, y_train),(x_test, y_test) = mnist.load_data()\n",
        "x_train, x_test = x_train / 255.0, x_test / 255.0\n",
        "\n",
        "model = tf.keras.models.Sequential([\n",
        "  tf.keras.layers.Flatten(input_shape=(28, 28)),\n",
        "  tf.keras.layers.Dense(512, activation=tf.nn.relu),\n",
        "  tf.keras.layers.Dropout(0.2),\n",
        "  tf.keras.layers.Dense(10, activation=tf.nn.softmax)\n",
        "])\n",
        "model.compile(optimizer='adam',\n",
        "              loss='sparse_categorical_crossentropy',\n",
        "              metrics=['accuracy'])\n",
        "\n",
        "model.fit(x_train, y_train, epochs=5)\n",
        "model.evaluate(x_test, y_test)"
      ],
      "execution_count": 0,
      "outputs": []
    },
    {
      "cell_type": "markdown",
      "metadata": {
        "id": "8SoogiG2pMTL",
        "colab_type": "text"
      },
      "source": [
        "## Time for logistic regression"
      ]
    },
    {
      "cell_type": "code",
      "metadata": {
        "id": "hm50_1Vum8-P",
        "colab_type": "code",
        "colab": {}
      },
      "source": [
        "import time\n",
        "t1=time.time()\n",
        "model.fit(train_images, train_labels)\n",
        "t2=time.time()\n",
        "model.predict(test_images)\n",
        "t3=time.time()\n",
        "\n",
        "print (\"train time: %2fmin, %.4fs.\"%((t2-t1)//60, (t2-t1)%60))\n",
        "print (\"test time: %2fmin, %.4fs.\"%((t3-t2)//60, (t3-t2)%60))\n"
      ],
      "execution_count": 0,
      "outputs": []
    },
    {
      "cell_type": "markdown",
      "metadata": {
        "id": "Tt_9Rf4tqH6s",
        "colab_type": "text"
      },
      "source": [
        "## Estimate time required to handle a training set of 60B images and a test set of 10B\n"
      ]
    },
    {
      "cell_type": "code",
      "metadata": {
        "id": "1IY2iHbxqHTG",
        "colab_type": "code",
        "outputId": "0d4101bb-5a7a-40cb-bd2f-822e36d1b045",
        "colab": {
          "base_uri": "https://localhost:8080/",
          "height": 51
        }
      },
      "source": [
        "print('# of training images:', train_images.shape[0])\n",
        "print('# of test images:', test_images.shape[0])"
      ],
      "execution_count": 0,
      "outputs": [
        {
          "output_type": "stream",
          "text": [
            "# of training images: 55000\n",
            "# of test images: 10000\n"
          ],
          "name": "stdout"
        }
      ]
    },
    {
      "cell_type": "code",
      "metadata": {
        "id": "Odq6kb_l1JxP",
        "colab_type": "code",
        "outputId": "ff7ab576-cca8-4f7e-dbd4-4b651e4edb78",
        "colab": {
          "base_uri": "https://localhost:8080/",
          "height": 51
        }
      },
      "source": [
        "#time is in second\n",
        "t_train=(2*60+32.55)/55000*60000000000\n",
        "t_test=(0.06)/10000*10000000000\n",
        "print(\"train time:\",t_train)\n",
        "print(\"test time:\",t_test)"
      ],
      "execution_count": 0,
      "outputs": [
        {
          "output_type": "stream",
          "text": [
            "train time: 166418181.81818184\n",
            "test time: 60000.0\n"
          ],
          "name": "stdout"
        }
      ]
    }
  ]
}